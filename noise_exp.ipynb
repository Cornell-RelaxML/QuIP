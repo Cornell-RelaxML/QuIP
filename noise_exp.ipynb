{
 "cells": [
  {
   "cell_type": "code",
   "execution_count": 21,
   "metadata": {},
   "outputs": [],
   "source": [
    "import torch\n",
    "from utils.construct_tff import construct_real_tff\n",
    "import numpy as np\n",
    "import matplotlib.pyplot as plt\n",
    "import seaborn as sns\n",
    "sns.set_theme()"
   ]
  },
  {
   "cell_type": "code",
   "execution_count": 20,
   "metadata": {},
   "outputs": [
    {
     "name": "stdout",
     "output_type": "stream",
     "text": [
      "evergy x = 2.5\n",
      "energy noise = 0.25\n"
     ]
    }
   ],
   "source": [
    "x = torch.tensor([-1, -0.5, 0.5, 1]).view(-1,1)\n",
    "print(f'evergy x = {(x**2).sum() }')\n",
    "noise_std = torch.sqrt(0.1 *(x**2).sum() )\n",
    "print(f'energy noise = {noise_std ** 2}')"
   ]
  },
  {
   "cell_type": "code",
   "execution_count": 152,
   "metadata": {},
   "outputs": [
    {
     "name": "stdout",
     "output_type": "stream",
     "text": [
      "1.005569814772671 1.0055698373907478\n",
      "k = 2, r = 1, 1.000000022492796\n",
      "k = 2, r = 1, 0.9944610595703125\n",
      "1.0185999168816489 1.0185999432606623\n",
      "k = 2, r = 1.25, 1.0000000258973254\n",
      "k = 2, r = 1.25, 0.9817397594451904\n",
      "1.504951974479854 1.000807427249197\n",
      "k = 3, r = 1.5, 0.6650095446368639\n",
      "k = 3, r = 1.5, 0.6644730567932129\n",
      "1.504340545167774 1.007295995143475\n",
      "k = 3, r = 1.75, 0.6695930641363752\n",
      "k = 3, r = 1.75, 0.6647431254386902\n",
      "1.9835867609448732 0.991333169061644\n",
      "k = 4, r = 2.0, 0.4997679902790976\n",
      "k = 4, r = 2.0, 0.5041372776031494\n",
      "[tensor(0.9945), tensor(0.9817), tensor(0.6645), tensor(0.6647), tensor(0.5041)]\n"
     ]
    }
   ],
   "source": [
    "redundancies = [1, 1.25, 1.5, 1.75, 2.0]\n",
    "mse_reduction = []\n",
    "\n",
    "l = 2\n",
    "n = 4\n",
    "g = torch.Generator()\n",
    "g.manual_seed(50)\n",
    "rand_mat_u = torch.randn((n, n), generator=g)\n",
    "Q_u, _ = torch.linalg.qr(rand_mat_u)\n",
    "for r in redundancies:\n",
    "    k = int(2 * r)\n",
    "    tff = construct_real_tff(k, l// 2, n // 2).view(-1, n)  @ Q_u\n",
    "    projs = tff @ x\n",
    "    projs = projs.view(-1,1)\n",
    "    tru_noise_energys = []\n",
    "    final_noise_energys = []\n",
    "    for i in range(10000):\n",
    "        ns = torch.randn_like(projs) * noise_std\n",
    "        corr_projs = projs + ns\n",
    "        hat_x = tff.T @ corr_projs\n",
    "\n",
    "        tru_noise_energy = (ns**2).sum().item()\n",
    "        final_noise_energy = ((x - hat_x)**2).sum().item()\n",
    "        tru_noise_energys.append(tru_noise_energy)\n",
    "        final_noise_energys.append(final_noise_energy)\n",
    "    mean_tru_noise_energy = np.mean(tru_noise_energys)\n",
    "    mean_final_noise_energy = np.mean(final_noise_energys)\n",
    "    print(mean_tru_noise_energy, mean_final_noise_energy)\n",
    "\n",
    "    # mse_reduction.append(mean_final_noise_energy/ mean_tru_noise_energy)\n",
    "    mse_reduction.append((n * noise_std **2)/ mean_tru_noise_energy)\n",
    "    print(f'{k = }, {r = }, {mean_final_noise_energy/ mean_tru_noise_energy}')\n",
    "    print(f'{k = }, {r = }, {(n * noise_std ** 2)/ mean_tru_noise_energy}')\n",
    "\n",
    "print(mse_reduction)"
   ]
  },
  {
   "cell_type": "code",
   "execution_count": 153,
   "metadata": {},
   "outputs": [
    {
     "data": {
      "image/png": "[encoded data removed]",
      "text/plain": [
       "<Figure size 640x480 with 1 Axes>"
      ]
     },
     "metadata": {},
     "output_type": "display_data"
    }
   ],
   "source": [
    "plt.plot(redundancies, mse_reduction, marker='o', linestyle='dashed', linewidth=3, markersize=8)\n",
    "plt.xlabel('Redundancy factor')\n",
    "plt.ylabel('MSE reduction')\n",
    "plt.savefig('noise_exp.png', bbox_inches='tight')\n",
    "plt.show()"
   ]
  },
  {
   "cell_type": "code",
   "execution_count": 109,
   "metadata": {},
   "outputs": [
    {
     "name": "stdout",
     "output_type": "stream",
     "text": [
      "k = 20, gen_noise_energy=tensor(48.9735), reconst_noise_energy=tensor(2.0863)\n"
     ]
    }
   ],
   "source": [
    "redundancies = [10]\n",
    "for r in redundancies:\n",
    "    k = int(2 * r)\n",
    "    l = 2\n",
    "    n = 4\n",
    "    tff = construct_real_tff(k, l// 2, n // 2).view(-1, n)\n",
    "\n",
    "    latent_dim = int(k*l)\n",
    "    gen_noise = torch.randn(latent_dim, 1)\n",
    "    reconst_noise = tff.T @ gen_noise\n",
    "\n",
    "    gen_noise_energy = (gen_noise ** 2).sum()\n",
    "    reconst_noise_energy = (reconst_noise ** 2).sum()\n",
    "    print(f'{k = }, {gen_noise_energy=}, {reconst_noise_energy=}')"
   ]
  },
  {
   "cell_type": "code",
   "execution_count": 108,
   "metadata": {},
   "outputs": [
    {
     "name": "stdout",
     "output_type": "stream",
     "text": [
      "tensor(40.4903)\n",
      "tensor(4.5102)\n"
     ]
    }
   ],
   "source": [
    "gen_noise = torch.randn(latent_dim, 1)\n",
    "reconst_noise = tff.T @ gen_noise\n",
    "print((gen_noise**2).sum())\n",
    "print((reconst_noise**2).sum())"
   ]
  },
  {
   "cell_type": "code",
   "execution_count": 38,
   "metadata": {},
   "outputs": [
    {
     "name": "stdout",
     "output_type": "stream",
     "text": [
      "tensor([[ 1.0000e+00,  0.0000e+00, -3.7253e-09, -3.5390e-08],\n",
      "        [ 0.0000e+00,  1.0000e+00,  3.5390e-08, -3.7253e-09],\n",
      "        [-3.7253e-09,  3.5390e-08,  1.0000e+00,  0.0000e+00],\n",
      "        [-3.5390e-08, -3.7253e-09,  0.0000e+00,  1.0000e+00]])\n"
     ]
    }
   ],
   "source": [
    "print(tff.T @ tff)"
   ]
  },
  {
   "cell_type": "code",
   "execution_count": 16,
   "metadata": {},
   "outputs": [
    {
     "name": "stdout",
     "output_type": "stream",
     "text": [
      "tensor([[ 0.5774, -0.0000,  0.5774, -0.0000],\n",
      "        [ 0.0000,  0.5774,  0.0000,  0.5774],\n",
      "        [ 0.5774, -0.0000, -0.2887, -0.5000],\n",
      "        [ 0.0000,  0.5774,  0.5000, -0.2887],\n",
      "        [ 0.5774, -0.0000, -0.2887,  0.5000],\n",
      "        [ 0.0000,  0.5774, -0.5000, -0.2887]])\n"
     ]
    }
   ],
   "source": [
    "k = 3\n",
    "l = 2\n",
    "n = 4\n",
    "tff = construct_real_tff(k, l// 2, n // 2).view(-1, n)\n",
    "print(tff)"
   ]
  },
  {
   "cell_type": "code",
   "execution_count": 17,
   "metadata": {},
   "outputs": [
    {
     "name": "stdout",
     "output_type": "stream",
     "text": [
      "evergy x = 2.5\n",
      "energy noise = 0.25\n",
      "torch.Size([6, 1])\n"
     ]
    }
   ],
   "source": [
    "projs = tff @ x\n",
    "projs = projs.view(-1,1)\n",
    "print(projs.shape)"
   ]
  },
  {
   "cell_type": "code",
   "execution_count": 18,
   "metadata": {},
   "outputs": [],
   "source": [
    "mses = []\n",
    "for i in range(1):\n",
    "    ns = torch.randn_like(projs)\n",
    "    corr_projs = projs + ns\n",
    "    hat_x = tff.T @ corr_projs\n",
    "    loss = torch.nn.functional.mse_loss(x, hat_x)\n",
    "    mses.append(loss.item())"
   ]
  },
  {
   "cell_type": "code",
   "execution_count": 19,
   "metadata": {},
   "outputs": [
    {
     "name": "stdout",
     "output_type": "stream",
     "text": [
      "[0.7935652732849121]\n"
     ]
    }
   ],
   "source": [
    "print(mses)"
   ]
  }
 ],
 "metadata": {
  "kernelspec": {
   "display_name": "bnetff",
   "language": "python",
   "name": "python3"
  },
  "language_info": {
   "codemirror_mode": {
    "name": "ipython",
    "version": 3
   },
   "file_extension": ".py",
   "mimetype": "text/x-python",
   "name": "python",
   "nbconvert_exporter": "python",
   "pygments_lexer": "ipython3",
   "version": "3.11.5"
  }
 },
 "nbformat": 4,
 "nbformat_minor": 2
}
